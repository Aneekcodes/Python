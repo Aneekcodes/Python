{
  "nbformat": 4,
  "nbformat_minor": 0,
  "metadata": {
    "colab": {
      "provenance": [],
      "authorship_tag": "ABX9TyOL+PwUNznasTeYjQFqOS9O",
      "include_colab_link": true
    },
    "kernelspec": {
      "name": "python3",
      "display_name": "Python 3"
    },
    "language_info": {
      "name": "python"
    }
  },
  "cells": [
    {
      "cell_type": "markdown",
      "metadata": {
        "id": "view-in-github",
        "colab_type": "text"
      },
      "source": [
        "<a href=\"https://colab.research.google.com/github/Aneekcodes/Python/blob/main/Matrix_Working.ipynb\" target=\"_parent\"><img src=\"https://colab.research.google.com/assets/colab-badge.svg\" alt=\"Open In Colab\"/></a>"
      ]
    },
    {
      "cell_type": "code",
      "execution_count": 1,
      "metadata": {
        "id": "g2D4VK-foQw4"
      },
      "outputs": [],
      "source": [
        "import numpy as np\n"
      ]
    },
    {
      "cell_type": "markdown",
      "source": [
        "Creating a Matrix using numpy"
      ],
      "metadata": {
        "id": "30Jkz1YMrjfo"
      }
    },
    {
      "cell_type": "code",
      "source": [
        "matrix_1 = np.array([[2,3],[6,7]])\n",
        "print(matrix_1)\n"
      ],
      "metadata": {
        "colab": {
          "base_uri": "https://localhost:8080/"
        },
        "id": "aPu9XKZrrdeN",
        "outputId": "b9da595a-289b-4482-8030-4dd93242ce0c"
      },
      "execution_count": 5,
      "outputs": [
        {
          "output_type": "stream",
          "name": "stdout",
          "text": [
            "[[2 3]\n",
            " [6 7]]\n"
          ]
        }
      ]
    },
    {
      "cell_type": "code",
      "source": [
        "matrix_1.shape"
      ],
      "metadata": {
        "colab": {
          "base_uri": "https://localhost:8080/"
        },
        "id": "MajxpUAysBhO",
        "outputId": "33e3cb2d-04ad-4a6f-b1f0-307337a129eb"
      },
      "execution_count": 6,
      "outputs": [
        {
          "output_type": "execute_result",
          "data": {
            "text/plain": [
              "(2, 2)"
            ]
          },
          "metadata": {},
          "execution_count": 6
        }
      ]
    },
    {
      "cell_type": "code",
      "source": [
        "matrix_2 = np.array([[10,35,45],[50,64,80],[20,15,90]])\n",
        "print(matrix_2)"
      ],
      "metadata": {
        "colab": {
          "base_uri": "https://localhost:8080/"
        },
        "id": "bKDIb-JBsJif",
        "outputId": "cc16f9ff-0e72-4c44-999f-08135e50ed4c"
      },
      "execution_count": 7,
      "outputs": [
        {
          "output_type": "stream",
          "name": "stdout",
          "text": [
            "[[10 35 45]\n",
            " [50 64 80]\n",
            " [20 15 90]]\n"
          ]
        }
      ]
    },
    {
      "cell_type": "code",
      "source": [
        "matrix_2.shape"
      ],
      "metadata": {
        "colab": {
          "base_uri": "https://localhost:8080/"
        },
        "id": "4D6Yei5usVV9",
        "outputId": "977cce90-1578-4815-f5cf-b259f8c29fe2"
      },
      "execution_count": 8,
      "outputs": [
        {
          "output_type": "execute_result",
          "data": {
            "text/plain": [
              "(3, 3)"
            ]
          },
          "metadata": {},
          "execution_count": 8
        }
      ]
    },
    {
      "cell_type": "markdown",
      "source": [
        "Creating Matrices with Random Values\n"
      ],
      "metadata": {
        "id": "JXvOp3auseY8"
      }
    },
    {
      "cell_type": "code",
      "source": [
        "random_matrix = np.random.rand(3,3)\n",
        "print(random_matrix)"
      ],
      "metadata": {
        "colab": {
          "base_uri": "https://localhost:8080/"
        },
        "id": "6VKOK-eIsbEj",
        "outputId": "9d144189-00a4-4b27-f22e-3596adbb0cce"
      },
      "execution_count": 9,
      "outputs": [
        {
          "output_type": "stream",
          "name": "stdout",
          "text": [
            "[[0.19920703 0.05841505 0.46209184]\n",
            " [0.75616496 0.26327899 0.90170086]\n",
            " [0.86220944 0.33009579 0.55474736]]\n"
          ]
        }
      ]
    },
    {
      "cell_type": "code",
      "source": [
        "# creating matrix with random integers\n",
        "random_integer_matrix = np.random.randint(100, size=(4,5))\n",
        "print(random_integer_matrix)"
      ],
      "metadata": {
        "colab": {
          "base_uri": "https://localhost:8080/"
        },
        "id": "hmfhpiDUtCtt",
        "outputId": "339f2374-5af1-495f-fe45-1ad7a9077e3e"
      },
      "execution_count": 10,
      "outputs": [
        {
          "output_type": "stream",
          "name": "stdout",
          "text": [
            "[[80 97 88 46 52]\n",
            " [80 96 37 65 19]\n",
            " [61 86 39 26 52]\n",
            " [46 57 84 32 42]]\n"
          ]
        }
      ]
    },
    {
      "cell_type": "markdown",
      "source": [
        "Matrix with all the values as 1"
      ],
      "metadata": {
        "id": "fbas0Y7rtMWG"
      }
    },
    {
      "cell_type": "code",
      "source": [
        "matrix_3 = np.ones((2,3))\n",
        "print(matrix_3)"
      ],
      "metadata": {
        "colab": {
          "base_uri": "https://localhost:8080/"
        },
        "id": "6Wa93LU5tFrW",
        "outputId": "4ade0fb5-765b-460d-d097-bec685094cb4"
      },
      "execution_count": 11,
      "outputs": [
        {
          "output_type": "stream",
          "name": "stdout",
          "text": [
            "[[1. 1. 1.]\n",
            " [1. 1. 1.]]\n"
          ]
        }
      ]
    },
    {
      "cell_type": "code",
      "source": [
        "matrix_3 = np.ones((2,3), dtype=int)\n",
        "print(matrix_3)"
      ],
      "metadata": {
        "colab": {
          "base_uri": "https://localhost:8080/"
        },
        "id": "oUKZGuSetPs1",
        "outputId": "6c4a2413-3b1f-45e2-ec57-2ccc42e37191"
      },
      "execution_count": 12,
      "outputs": [
        {
          "output_type": "stream",
          "name": "stdout",
          "text": [
            "[[1 1 1]\n",
            " [1 1 1]]\n"
          ]
        }
      ]
    },
    {
      "cell_type": "code",
      "source": [
        "matrix_3 = np.ones((10,10), dtype=int)\n",
        "print(matrix_3)"
      ],
      "metadata": {
        "colab": {
          "base_uri": "https://localhost:8080/"
        },
        "id": "1Th5VDH_tX-a",
        "outputId": "f2f2fde3-1b24-4c8a-e761-17dcfe2d37fe"
      },
      "execution_count": 13,
      "outputs": [
        {
          "output_type": "stream",
          "name": "stdout",
          "text": [
            "[[1 1 1 1 1 1 1 1 1 1]\n",
            " [1 1 1 1 1 1 1 1 1 1]\n",
            " [1 1 1 1 1 1 1 1 1 1]\n",
            " [1 1 1 1 1 1 1 1 1 1]\n",
            " [1 1 1 1 1 1 1 1 1 1]\n",
            " [1 1 1 1 1 1 1 1 1 1]\n",
            " [1 1 1 1 1 1 1 1 1 1]\n",
            " [1 1 1 1 1 1 1 1 1 1]\n",
            " [1 1 1 1 1 1 1 1 1 1]\n",
            " [1 1 1 1 1 1 1 1 1 1]]\n"
          ]
        }
      ]
    },
    {
      "cell_type": "markdown",
      "source": [
        "Null Matrix or Zero Matrix"
      ],
      "metadata": {
        "id": "wDL0zPRwtwBC"
      }
    },
    {
      "cell_type": "code",
      "source": [
        "null_matrix = np.zeros((4,4))\n",
        "print(null_matrix)"
      ],
      "metadata": {
        "colab": {
          "base_uri": "https://localhost:8080/"
        },
        "id": "XUX_Dl5ztteG",
        "outputId": "ae145d03-15be-4a0d-806d-f617913cedd7"
      },
      "execution_count": 14,
      "outputs": [
        {
          "output_type": "stream",
          "name": "stdout",
          "text": [
            "[[0. 0. 0. 0.]\n",
            " [0. 0. 0. 0.]\n",
            " [0. 0. 0. 0.]\n",
            " [0. 0. 0. 0.]]\n"
          ]
        }
      ]
    },
    {
      "cell_type": "code",
      "source": [
        "null_matrix = np.zeros((7,7))\n",
        "print(null_matrix)"
      ],
      "metadata": {
        "colab": {
          "base_uri": "https://localhost:8080/"
        },
        "id": "pbbev7z6t_Wn",
        "outputId": "40719902-0581-4d7a-b567-181d2bc86104"
      },
      "execution_count": 15,
      "outputs": [
        {
          "output_type": "stream",
          "name": "stdout",
          "text": [
            "[[0. 0. 0. 0. 0. 0. 0.]\n",
            " [0. 0. 0. 0. 0. 0. 0.]\n",
            " [0. 0. 0. 0. 0. 0. 0.]\n",
            " [0. 0. 0. 0. 0. 0. 0.]\n",
            " [0. 0. 0. 0. 0. 0. 0.]\n",
            " [0. 0. 0. 0. 0. 0. 0.]\n",
            " [0. 0. 0. 0. 0. 0. 0.]]\n"
          ]
        }
      ]
    },
    {
      "cell_type": "markdown",
      "source": [
        "Identity Matrix"
      ],
      "metadata": {
        "id": "naBLSjWpufbw"
      }
    },
    {
      "cell_type": "code",
      "source": [
        "identity_matrix = np.eye(3,3)\n",
        "print(identity_matrix)"
      ],
      "metadata": {
        "colab": {
          "base_uri": "https://localhost:8080/"
        },
        "id": "QPJG6JEduDTz",
        "outputId": "4426197f-481b-43cc-c7ea-2a9483a45c05"
      },
      "execution_count": 16,
      "outputs": [
        {
          "output_type": "stream",
          "name": "stdout",
          "text": [
            "[[1. 0. 0.]\n",
            " [0. 1. 0.]\n",
            " [0. 0. 1.]]\n"
          ]
        }
      ]
    },
    {
      "cell_type": "code",
      "source": [
        "identity_matrix = np.eye(5,5)\n",
        "print(identity_matrix)"
      ],
      "metadata": {
        "colab": {
          "base_uri": "https://localhost:8080/"
        },
        "id": "nIZVTMUruoJP",
        "outputId": "a98cdffe-1aa1-4b9f-c68e-9dd4047c912b"
      },
      "execution_count": 17,
      "outputs": [
        {
          "output_type": "stream",
          "name": "stdout",
          "text": [
            "[[1. 0. 0. 0. 0.]\n",
            " [0. 1. 0. 0. 0.]\n",
            " [0. 0. 1. 0. 0.]\n",
            " [0. 0. 0. 1. 0.]\n",
            " [0. 0. 0. 0. 1.]]\n"
          ]
        }
      ]
    },
    {
      "cell_type": "markdown",
      "source": [
        "Transpose of a Matrix"
      ],
      "metadata": {
        "id": "Tc56vZ_bu4KL"
      }
    },
    {
      "cell_type": "code",
      "source": [
        "# matrix with random integer values\n",
        "a = np.random.randint(100, size=(4,5))\n",
        "print(a)"
      ],
      "metadata": {
        "colab": {
          "base_uri": "https://localhost:8080/"
        },
        "id": "RRMdS-Uju0i4",
        "outputId": "3f2e6ece-3dc6-45a3-b575-0a4036e09435"
      },
      "execution_count": 18,
      "outputs": [
        {
          "output_type": "stream",
          "name": "stdout",
          "text": [
            "[[20 80 20 77  0]\n",
            " [51 72 39  7  7]\n",
            " [65 47 39 25 11]\n",
            " [48 21 59 66 36]]\n"
          ]
        }
      ]
    },
    {
      "cell_type": "code",
      "source": [
        "transpose_of_a = np.transpose(a)\n",
        "print(transpose_of_a)"
      ],
      "metadata": {
        "colab": {
          "base_uri": "https://localhost:8080/"
        },
        "id": "4_4WO6thvZRw",
        "outputId": "97cd5097-7370-4f30-f53a-79d02069c608"
      },
      "execution_count": 19,
      "outputs": [
        {
          "output_type": "stream",
          "name": "stdout",
          "text": [
            "[[20 51 65 48]\n",
            " [80 72 47 21]\n",
            " [20 39 39 59]\n",
            " [77  7 25 66]\n",
            " [ 0  7 11 36]]\n"
          ]
        }
      ]
    },
    {
      "cell_type": "code",
      "source": [],
      "metadata": {
        "id": "7lGd0_HYvcOL"
      },
      "execution_count": null,
      "outputs": []
    }
  ]
}