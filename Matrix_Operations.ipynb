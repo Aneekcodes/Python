{
  "nbformat": 4,
  "nbformat_minor": 0,
  "metadata": {
    "colab": {
      "provenance": [],
      "authorship_tag": "ABX9TyPjkkMK0oIV0bRxEnKBEO2r",
      "include_colab_link": true
    },
    "kernelspec": {
      "name": "python3",
      "display_name": "Python 3"
    },
    "language_info": {
      "name": "python"
    }
  },
  "cells": [
    {
      "cell_type": "markdown",
      "metadata": {
        "id": "view-in-github",
        "colab_type": "text"
      },
      "source": [
        "<a href=\"https://colab.research.google.com/github/Aneekcodes/Python/blob/main/Matrix_Operations.ipynb\" target=\"_parent\"><img src=\"https://colab.research.google.com/assets/colab-badge.svg\" alt=\"Open In Colab\"/></a>"
      ]
    },
    {
      "cell_type": "code",
      "execution_count": 1,
      "metadata": {
        "id": "oD6E3LMbsfHV"
      },
      "outputs": [],
      "source": [
        "import numpy as np"
      ]
    },
    {
      "cell_type": "markdown",
      "source": [
        "Matrix Addition\n",
        "\n",
        "Two Matrices can be added only if they have the same shape"
      ],
      "metadata": {
        "id": "5qsIS75Jtmto"
      }
    },
    {
      "cell_type": "code",
      "source": [
        "# creating two matrices\n",
        "\n",
        "A = np.array([[2,3],[4,5]])\n",
        "\n",
        "B = np.array([[6,7],[8,9]])"
      ],
      "metadata": {
        "id": "dojAzefstgJc"
      },
      "execution_count": 2,
      "outputs": []
    },
    {
      "cell_type": "code",
      "source": [
        "print(A)"
      ],
      "metadata": {
        "colab": {
          "base_uri": "https://localhost:8080/"
        },
        "id": "k6W5iGcMtsAv",
        "outputId": "d8bb01ad-6c62-4973-c580-bb16174fb6e9"
      },
      "execution_count": 3,
      "outputs": [
        {
          "output_type": "stream",
          "name": "stdout",
          "text": [
            "[[2 3]\n",
            " [4 5]]\n"
          ]
        }
      ]
    },
    {
      "cell_type": "code",
      "source": [
        "print(B)"
      ],
      "metadata": {
        "colab": {
          "base_uri": "https://localhost:8080/"
        },
        "id": "krpf1bGltwXP",
        "outputId": "0128b0df-7093-4bc7-c1d1-60c202234194"
      },
      "execution_count": 4,
      "outputs": [
        {
          "output_type": "stream",
          "name": "stdout",
          "text": [
            "[[6 7]\n",
            " [8 9]]\n"
          ]
        }
      ]
    },
    {
      "cell_type": "code",
      "source": [
        "A.shape"
      ],
      "metadata": {
        "colab": {
          "base_uri": "https://localhost:8080/"
        },
        "id": "X1fcFoKat0Hj",
        "outputId": "f4ef9152-74e1-44f5-ad3c-7bbf7834f0aa"
      },
      "execution_count": 5,
      "outputs": [
        {
          "output_type": "execute_result",
          "data": {
            "text/plain": [
              "(2, 2)"
            ]
          },
          "metadata": {},
          "execution_count": 5
        }
      ]
    },
    {
      "cell_type": "code",
      "source": [
        "B.shape"
      ],
      "metadata": {
        "colab": {
          "base_uri": "https://localhost:8080/"
        },
        "id": "sQiUs05ft4Kb",
        "outputId": "73f201a5-bf78-4afa-bf59-b2e1b86ecfa3"
      },
      "execution_count": 6,
      "outputs": [
        {
          "output_type": "execute_result",
          "data": {
            "text/plain": [
              "(2, 2)"
            ]
          },
          "metadata": {},
          "execution_count": 6
        }
      ]
    },
    {
      "cell_type": "markdown",
      "source": [
        "Adding two Matrices"
      ],
      "metadata": {
        "id": "k9J8W9EiuD81"
      }
    },
    {
      "cell_type": "code",
      "source": [
        "sum = A + B"
      ],
      "metadata": {
        "id": "lTCmI3sIt8B7"
      },
      "execution_count": 7,
      "outputs": []
    },
    {
      "cell_type": "code",
      "source": [
        "print(sum)"
      ],
      "metadata": {
        "colab": {
          "base_uri": "https://localhost:8080/"
        },
        "id": "qSt4PyfiuIFl",
        "outputId": "0d2ad616-22fd-45c5-cfb5-05238466f99f"
      },
      "execution_count": 8,
      "outputs": [
        {
          "output_type": "stream",
          "name": "stdout",
          "text": [
            "[[ 8 10]\n",
            " [12 14]]\n"
          ]
        }
      ]
    },
    {
      "cell_type": "code",
      "source": [
        "\n",
        "# create two matrices with random values\n",
        "matrix_1 = np.random.randint(10, size=(3,3))\n",
        "matrix_2 = np.random.randint(20, size=(3,3))"
      ],
      "metadata": {
        "id": "fojxZMt2uLoP"
      },
      "execution_count": 9,
      "outputs": []
    },
    {
      "cell_type": "code",
      "source": [
        "\n",
        "print(matrix_1)\n",
        "\n",
        "print(matrix_2)"
      ],
      "metadata": {
        "colab": {
          "base_uri": "https://localhost:8080/"
        },
        "id": "8mwNzLnGuP9o",
        "outputId": "fd59bc55-617b-44b9-b5fd-5a8dd303a188"
      },
      "execution_count": 10,
      "outputs": [
        {
          "output_type": "stream",
          "name": "stdout",
          "text": [
            "[[5 6 5]\n",
            " [6 9 4]\n",
            " [9 0 1]]\n",
            "[[ 5 11 10]\n",
            " [11 13  7]\n",
            " [19  1  9]]\n"
          ]
        }
      ]
    },
    {
      "cell_type": "code",
      "source": [
        "sum = np.add(matrix_1, matrix_2)\n",
        "\n",
        "\n",
        "print(sum)"
      ],
      "metadata": {
        "colab": {
          "base_uri": "https://localhost:8080/"
        },
        "id": "_7YuQ-eIub68",
        "outputId": "c53513d0-f839-4a03-fe8e-8319d56b89bf"
      },
      "execution_count": 11,
      "outputs": [
        {
          "output_type": "stream",
          "name": "stdout",
          "text": [
            "[[10 17 15]\n",
            " [17 22 11]\n",
            " [28  1 10]]\n"
          ]
        }
      ]
    },
    {
      "cell_type": "markdown",
      "source": [
        "Matrix Subtraction"
      ],
      "metadata": {
        "id": "rOtV3UMpuoxw"
      }
    },
    {
      "cell_type": "code",
      "source": [
        "# creating two matrices\n",
        "\n",
        "A = np.array([[2,3],[4,5]])\n",
        "\n",
        "B = np.array([[6,7],[8,9]])"
      ],
      "metadata": {
        "id": "XwCY3-6fuhzn"
      },
      "execution_count": 12,
      "outputs": []
    },
    {
      "cell_type": "code",
      "source": [
        "print(A)"
      ],
      "metadata": {
        "colab": {
          "base_uri": "https://localhost:8080/"
        },
        "id": "H-j4rIrevOH4",
        "outputId": "f5ed61d9-a0d0-4799-a917-c8ed89ddd337"
      },
      "execution_count": 13,
      "outputs": [
        {
          "output_type": "stream",
          "name": "stdout",
          "text": [
            "[[2 3]\n",
            " [4 5]]\n"
          ]
        }
      ]
    },
    {
      "cell_type": "code",
      "source": [
        "print(B)"
      ],
      "metadata": {
        "colab": {
          "base_uri": "https://localhost:8080/"
        },
        "id": "tohBLelTvQdI",
        "outputId": "e40d4ed9-0dfc-483c-d23c-bfe4048e412a"
      },
      "execution_count": 14,
      "outputs": [
        {
          "output_type": "stream",
          "name": "stdout",
          "text": [
            "[[6 7]\n",
            " [8 9]]\n"
          ]
        }
      ]
    },
    {
      "cell_type": "code",
      "source": [
        "difference = A - B\n",
        "\n",
        "\n",
        "print(difference)"
      ],
      "metadata": {
        "colab": {
          "base_uri": "https://localhost:8080/"
        },
        "id": "lHZ6fFuUvSlq",
        "outputId": "f8a521d7-47c7-4ee0-947f-566f782d3fd6"
      },
      "execution_count": 15,
      "outputs": [
        {
          "output_type": "stream",
          "name": "stdout",
          "text": [
            "[[-4 -4]\n",
            " [-4 -4]]\n"
          ]
        }
      ]
    },
    {
      "cell_type": "code",
      "source": [
        "# create two matrices with random values\n",
        "matrix_1 = np.random.randint(10, size=(3,3))\n",
        "matrix_2 = np.random.randint(20, size=(3,3))"
      ],
      "metadata": {
        "id": "MVRMxJIuvej2"
      },
      "execution_count": 16,
      "outputs": []
    },
    {
      "cell_type": "code",
      "source": [
        "print(matrix_1)\n",
        "\n",
        "print(matrix_2)"
      ],
      "metadata": {
        "colab": {
          "base_uri": "https://localhost:8080/"
        },
        "id": "nYYkhD6OvjM0",
        "outputId": "d3ed6fa6-d205-4fe9-84bf-30557616e269"
      },
      "execution_count": 17,
      "outputs": [
        {
          "output_type": "stream",
          "name": "stdout",
          "text": [
            "[[6 7 2]\n",
            " [0 6 3]\n",
            " [2 8 1]]\n",
            "[[ 3  2 13]\n",
            " [ 1  2  6]\n",
            " [10 10  8]]\n"
          ]
        }
      ]
    },
    {
      "cell_type": "code",
      "source": [
        "diff = np.subtract(matrix_1, matrix_2)\n",
        "\n",
        "\n",
        "print(diff)"
      ],
      "metadata": {
        "colab": {
          "base_uri": "https://localhost:8080/"
        },
        "id": "gQmEjfOSvrbP",
        "outputId": "e4b6f2ed-27eb-4447-f070-6d595f27860a"
      },
      "execution_count": 18,
      "outputs": [
        {
          "output_type": "stream",
          "name": "stdout",
          "text": [
            "[[  3   5 -11]\n",
            " [ -1   4  -3]\n",
            " [ -8  -2  -7]]\n"
          ]
        }
      ]
    },
    {
      "cell_type": "markdown",
      "source": [
        "Multiplying a matrix by a scalar"
      ],
      "metadata": {
        "id": "hcWxXlNjvzdQ"
      }
    },
    {
      "cell_type": "code",
      "source": [
        "x = 5\n",
        "y = np.random.randint(10, size=(4,4))\n",
        "\n",
        "print(y)"
      ],
      "metadata": {
        "colab": {
          "base_uri": "https://localhost:8080/"
        },
        "id": "HkEHba4Evwbp",
        "outputId": "3124d39e-d6ba-48e4-fb44-d11c8881cb45"
      },
      "execution_count": 19,
      "outputs": [
        {
          "output_type": "stream",
          "name": "stdout",
          "text": [
            "[[3 1 8 0]\n",
            " [5 1 7 8]\n",
            " [3 7 4 4]\n",
            " [6 2 1 6]]\n"
          ]
        }
      ]
    },
    {
      "cell_type": "code",
      "source": [
        "product = np.multiply(x,y)\n",
        "\n",
        "print(product)"
      ],
      "metadata": {
        "colab": {
          "base_uri": "https://localhost:8080/"
        },
        "id": "x4WkuudUv3gN",
        "outputId": "ac6767e9-b530-4e40-e962-4f484a1347f6"
      },
      "execution_count": 20,
      "outputs": [
        {
          "output_type": "stream",
          "name": "stdout",
          "text": [
            "[[15  5 40  0]\n",
            " [25  5 35 40]\n",
            " [15 35 20 20]\n",
            " [30 10  5 30]]\n"
          ]
        }
      ]
    },
    {
      "cell_type": "markdown",
      "source": [
        "Multiplying 2 Matrices"
      ],
      "metadata": {
        "id": "CrsuJIk8wR9_"
      }
    },
    {
      "cell_type": "code",
      "source": [
        "# create two matrices with random values\n",
        "matrix_3 = np.random.randint(5, size=(3,3))\n",
        "matrix_4 = np.random.randint(5, size=(3,4))\n",
        ""
      ],
      "metadata": {
        "id": "EVJzUL7FwKxB"
      },
      "execution_count": 21,
      "outputs": []
    },
    {
      "cell_type": "code",
      "source": [
        "print(matrix_3)\n",
        "print(matrix_4)"
      ],
      "metadata": {
        "colab": {
          "base_uri": "https://localhost:8080/"
        },
        "id": "T0kn_MzHwVhD",
        "outputId": "916da5ba-cdd0-43a9-af68-fa2646c17b89"
      },
      "execution_count": 22,
      "outputs": [
        {
          "output_type": "stream",
          "name": "stdout",
          "text": [
            "[[3 3 0]\n",
            " [2 1 2]\n",
            " [3 2 1]]\n",
            "[[4 4 2 0]\n",
            " [3 2 0 4]\n",
            " [2 1 3 3]]\n"
          ]
        }
      ]
    },
    {
      "cell_type": "code",
      "source": [
        "product = np.dot(matrix_3, matrix_4)\n",
        "print(product)"
      ],
      "metadata": {
        "colab": {
          "base_uri": "https://localhost:8080/"
        },
        "id": "r9Y8iv4UwZoi",
        "outputId": "ad2b704b-4f80-4e87-aa88-9c8e88cf9a3e"
      },
      "execution_count": 23,
      "outputs": [
        {
          "output_type": "stream",
          "name": "stdout",
          "text": [
            "[[21 18  6 12]\n",
            " [15 12 10 10]\n",
            " [20 17  9 11]]\n"
          ]
        }
      ]
    },
    {
      "cell_type": "markdown",
      "source": [
        "Element wise Matrix Multiplication"
      ],
      "metadata": {
        "id": "9a_2Xf_MwpL5"
      }
    },
    {
      "cell_type": "code",
      "source": [
        "# create two matrices with random values\n",
        "matrix_3 = np.random.randint(5, size=(3,3))\n",
        "matrix_4 = np.random.randint(5, size=(3,3))"
      ],
      "metadata": {
        "id": "DWStbZhIwfMo"
      },
      "execution_count": 24,
      "outputs": []
    },
    {
      "cell_type": "code",
      "source": [
        "print(matrix_3)"
      ],
      "metadata": {
        "colab": {
          "base_uri": "https://localhost:8080/"
        },
        "id": "pwXgiYnhwrzM",
        "outputId": "b8c8472a-9dc2-440e-b9d2-78c561b9be14"
      },
      "execution_count": 25,
      "outputs": [
        {
          "output_type": "stream",
          "name": "stdout",
          "text": [
            "[[4 2 1]\n",
            " [2 0 0]\n",
            " [1 0 1]]\n"
          ]
        }
      ]
    },
    {
      "cell_type": "code",
      "source": [
        "print(matrix_4)"
      ],
      "metadata": {
        "colab": {
          "base_uri": "https://localhost:8080/"
        },
        "id": "S_AjDG0Bwu2a",
        "outputId": "9bb23437-9344-47f4-a1fb-9220b81199b5"
      },
      "execution_count": 26,
      "outputs": [
        {
          "output_type": "stream",
          "name": "stdout",
          "text": [
            "[[0 2 1]\n",
            " [4 4 3]\n",
            " [3 4 4]]\n"
          ]
        }
      ]
    },
    {
      "cell_type": "code",
      "source": [
        "product = np.multiply(matrix_3, matrix_4)\n",
        "print(product)"
      ],
      "metadata": {
        "colab": {
          "base_uri": "https://localhost:8080/"
        },
        "id": "IRRlslXow-lP",
        "outputId": "5e645cdb-fde0-4176-b25a-a93bcadada61"
      },
      "execution_count": 27,
      "outputs": [
        {
          "output_type": "stream",
          "name": "stdout",
          "text": [
            "[[0 4 1]\n",
            " [8 0 0]\n",
            " [3 0 4]]\n"
          ]
        }
      ]
    },
    {
      "cell_type": "code",
      "source": [],
      "metadata": {
        "id": "0T0hwq-3xDt7"
      },
      "execution_count": null,
      "outputs": []
    }
  ]
}