{
  "nbformat": 4,
  "nbformat_minor": 0,
  "metadata": {
    "colab": {
      "provenance": [],
      "authorship_tag": "ABX9TyMmfXvzq67DtNfZaueyMWwn",
      "include_colab_link": true
    },
    "kernelspec": {
      "name": "python3",
      "display_name": "Python 3"
    },
    "language_info": {
      "name": "python"
    }
  },
  "cells": [
    {
      "cell_type": "markdown",
      "metadata": {
        "id": "view-in-github",
        "colab_type": "text"
      },
      "source": [
        "<a href=\"https://colab.research.google.com/github/Aneekcodes/Python/blob/main/Vector_Operation2.ipynb\" target=\"_parent\"><img src=\"https://colab.research.google.com/assets/colab-badge.svg\" alt=\"Open In Colab\"/></a>"
      ]
    },
    {
      "cell_type": "code",
      "execution_count": 1,
      "metadata": {
        "id": "4uZls_ByX_NP"
      },
      "outputs": [],
      "source": [
        "import numpy as np"
      ]
    },
    {
      "cell_type": "markdown",
      "source": [
        "Dot Product of 2 Vectors"
      ],
      "metadata": {
        "id": "ZPJGtwrw_w8H"
      }
    },
    {
      "cell_type": "code",
      "source": [
        "a =np.array([2,3])\n",
        "b =np.array([4,4])\n",
        "a_dot_b = np.dot(a, b)"
      ],
      "metadata": {
        "id": "GTNbTN7__tep"
      },
      "execution_count": 2,
      "outputs": []
    },
    {
      "cell_type": "code",
      "source": [
        "print(a_dot_b)"
      ],
      "metadata": {
        "colab": {
          "base_uri": "https://localhost:8080/"
        },
        "id": "_w2y9flRAAcO",
        "outputId": "9beee7f8-f94e-43db-833d-6218e9553414"
      },
      "execution_count": 3,
      "outputs": [
        {
          "output_type": "stream",
          "name": "stdout",
          "text": [
            "20\n"
          ]
        }
      ]
    },
    {
      "cell_type": "code",
      "source": [
        "c = np.array([40, 20, 35])\n",
        "\n",
        "d = np.array([53, 24, 68])\n",
        "\n",
        "c_dot_d = np.dot(c, d)"
      ],
      "metadata": {
        "id": "pos8HlbSAEiM"
      },
      "execution_count": 4,
      "outputs": []
    },
    {
      "cell_type": "code",
      "source": [
        "print(c_dot_d)"
      ],
      "metadata": {
        "colab": {
          "base_uri": "https://localhost:8080/"
        },
        "id": "Zv8NTSZTAIx0",
        "outputId": "84a92b8d-58e0-492e-dc8e-111e109309c2"
      },
      "execution_count": 5,
      "outputs": [
        {
          "output_type": "stream",
          "name": "stdout",
          "text": [
            "4980\n"
          ]
        }
      ]
    },
    {
      "cell_type": "markdown",
      "source": [
        "Cross Product of 2 Vectors"
      ],
      "metadata": {
        "id": "DGM5xFOeAQeB"
      }
    },
    {
      "cell_type": "code",
      "source": [
        "a = np.array([2, 3])\n",
        "\n",
        "b = np.array([4, 4])\n",
        "a_cross_b =np.cross(a,b)"
      ],
      "metadata": {
        "colab": {
          "base_uri": "https://localhost:8080/"
        },
        "id": "sSzipzA4ALZc",
        "outputId": "224ef755-34b9-4974-854d-3a203bc9a490"
      },
      "execution_count": 6,
      "outputs": [
        {
          "output_type": "stream",
          "name": "stderr",
          "text": [
            "/tmp/ipython-input-6-2469719620.py:4: DeprecationWarning: Arrays of 2-dimensional vectors are deprecated. Use arrays of 3-dimensional vectors instead. (deprecated in NumPy 2.0)\n",
            "  a_cross_b =np.cross(a,b)\n"
          ]
        }
      ]
    },
    {
      "cell_type": "code",
      "source": [
        "print(a_cross_b)"
      ],
      "metadata": {
        "colab": {
          "base_uri": "https://localhost:8080/"
        },
        "id": "Awd-jxB_AaXj",
        "outputId": "db8ed3db-14a9-4f8d-fba4-95959d65b58c"
      },
      "execution_count": 7,
      "outputs": [
        {
          "output_type": "stream",
          "name": "stdout",
          "text": [
            "-4\n"
          ]
        }
      ]
    },
    {
      "cell_type": "code",
      "source": [
        "c = np.array([5, 10, 20])\n",
        "\n",
        "d = np.array([18, 32, 50])\n",
        "c_cross_d =np.cross(c,d)"
      ],
      "metadata": {
        "id": "jRjmRDL1AdgL"
      },
      "execution_count": 8,
      "outputs": []
    },
    {
      "cell_type": "code",
      "source": [
        "print(c_cross_d)"
      ],
      "metadata": {
        "colab": {
          "base_uri": "https://localhost:8080/"
        },
        "id": "8wlM-3k9Ak9V",
        "outputId": "0e0bf140-9f6f-4098-d2df-d7bbdc97f7c9"
      },
      "execution_count": 9,
      "outputs": [
        {
          "output_type": "stream",
          "name": "stdout",
          "text": [
            "[-140  110  -20]\n"
          ]
        }
      ]
    },
    {
      "cell_type": "markdown",
      "source": [
        "Projection of \"a\" vector on \"v\" vector"
      ],
      "metadata": {
        "id": "HeAjlzsrArz8"
      }
    },
    {
      "cell_type": "code",
      "source": [
        "a = np.array([2, 5])\n",
        "\n",
        "v = np.array([8, -6])\n",
        "# magnitude of \"v\" vector\n",
        "magnitude_of_v = np.sqrt(sum(v**2))\n",
        "proj_of_a_on_v = (np.dot(a,v)/magnitude_of_v**2)*v\n",
        "print('Projection of a vector on v vector = ', proj_of_a_on_v)"
      ],
      "metadata": {
        "colab": {
          "base_uri": "https://localhost:8080/"
        },
        "id": "nQKtlp7cAoXj",
        "outputId": "76f23c0d-735c-4aa0-938d-310d65b5b32b"
      },
      "execution_count": 10,
      "outputs": [
        {
          "output_type": "stream",
          "name": "stdout",
          "text": [
            "Projection of a vector on v vector =  [-1.12  0.84]\n"
          ]
        }
      ]
    },
    {
      "cell_type": "code",
      "source": [
        "a = np.array([23, 45, 62])\n",
        "\n",
        "v = np.array([45, 82, 67])\n",
        "# magnitude of \"v\" vector\n",
        "magnitude_of_v = np.sqrt(sum(v**2))\n",
        "proj_of_a_on_v = (np.dot(a,v)/magnitude_of_v**2)*v\n",
        "print('Projection of a vector on v vector = ', proj_of_a_on_v)"
      ],
      "metadata": {
        "colab": {
          "base_uri": "https://localhost:8080/"
        },
        "id": "LSMEhyHfBqnk",
        "outputId": "a9a9840a-11cb-4aa0-e606-3602a06b3cb1"
      },
      "execution_count": 11,
      "outputs": [
        {
          "output_type": "stream",
          "name": "stdout",
          "text": [
            "Projection of a vector on v vector =  [30.18242937 54.99909352 44.93828373]\n"
          ]
        }
      ]
    },
    {
      "cell_type": "code",
      "source": [],
      "metadata": {
        "id": "L2xIkEntB477"
      },
      "execution_count": null,
      "outputs": []
    }
  ]
}