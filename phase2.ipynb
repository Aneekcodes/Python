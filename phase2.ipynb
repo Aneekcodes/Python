{
 "cells": [
  {
   "cell_type": "markdown",
   "metadata": {},
   "source": [
    "## Numpy Array Operations\n"
   ]
  },
  {
   "cell_type": "code",
   "execution_count": null,
   "metadata": {},
   "outputs": [],
   "source": [
    "import numpy as np\n"
   ]
  },
  {
   "cell_type": "code",
   "execution_count": 3,
   "metadata": {},
   "outputs": [
    {
     "name": "stdout",
     "output_type": "stream",
     "text": [
      "Basic Slicing [3 4 5 6 7]\n",
      "With Step [2 4 6 8]\n",
      "Negative indexing 8\n"
     ]
    }
   ],
   "source": [
    "arr = np.array([1,2,3,4,5,6,7,8,9,10])\n",
    "print(\"Basic Slicing\", arr[2:7])\n",
    "print(\"With Step\", arr[1:8:2])\n",
    "print(\"Negative indexing\", arr[-3])"
   ]
  },
  {
   "cell_type": "code",
   "execution_count": 6,
   "metadata": {},
   "outputs": [
    {
     "name": "stdout",
     "output_type": "stream",
     "text": [
      "Specific element 6\n",
      "Entire Row:  [4 5 6]\n",
      "Entire Column: [2 5 8]\n"
     ]
    }
   ],
   "source": [
    "arr_2d = np.array([[1,2,3],\n",
    "                   [4,5,6],\n",
    "                   [7,8,9]])\n",
    "print(\"Specific element\", arr_2d[1,2])\n",
    "print(\"Entire Row: \", arr_2d[1])\n",
    "print(\"Entire Column:\" , arr_2d[:, 1])\n"
   ]
  },
  {
   "cell_type": "markdown",
   "metadata": {},
   "source": [
    "## Sorting"
   ]
  },
  {
   "cell_type": "code",
   "execution_count": 10,
   "metadata": {},
   "outputs": [
    {
     "name": "stdout",
     "output_type": "stream",
     "text": [
      "Sorted Array [1 2 3 4 5 6 7 8]\n",
      "Sorted 2d Array [[1 1]\n",
      " [2 2]\n",
      " [3 3]]\n"
     ]
    }
   ],
   "source": [
    "unsorted = np.array([3,4,2,5,1,8,6,7])\n",
    "print(\"Sorted Array\", np.sort(unsorted))\n",
    "\n",
    "arr_2d_unsorted = np.array([[3,1], \n",
    "                            [1,2],\n",
    "                            [2,3]])\n",
    "print(\"Sorted 2d Array\", np.sort(arr_2d_unsorted, axis =0))"
   ]
  },
  {
   "cell_type": "markdown",
   "metadata": {},
   "source": [
    "## Filter"
   ]
  },
  {
   "cell_type": "code",
   "execution_count": 11,
   "metadata": {},
   "outputs": [
    {
     "name": "stdout",
     "output_type": "stream",
     "text": [
      "Even numbers [ 2  4  6  8 10]\n"
     ]
    }
   ],
   "source": [
    "numbers = np.array([1,2,3,4,5,6,7,8,9,10])\n",
    "even_number = numbers[numbers % 2 ==0]\n",
    "print(\"Even numbers\", even_number)"
   ]
  },
  {
   "cell_type": "markdown",
   "metadata": {},
   "source": [
    "## Filter with mask"
   ]
  },
  {
   "cell_type": "code",
   "execution_count": 12,
   "metadata": {},
   "outputs": [
    {
     "name": "stdout",
     "output_type": "stream",
     "text": [
      "Numbers greater than 5  [ 6  7  8  9 10]\n"
     ]
    }
   ],
   "source": [
    "mask = numbers >5\n",
    "print(\"Numbers greater than 5 \", numbers[mask])"
   ]
  },
  {
   "cell_type": "markdown",
   "metadata": {},
   "source": [
    "## Fancy indexing vs np.where()"
   ]
  },
  {
   "cell_type": "code",
   "execution_count": 15,
   "metadata": {},
   "outputs": [
    {
     "name": "stdout",
     "output_type": "stream",
     "text": [
      "[1 3 5]\n",
      "(array([5, 6, 7, 8, 9], dtype=int64),)\n",
      "NP where  [ 6  7  8  9 10]\n"
     ]
    }
   ],
   "source": [
    "indices =[0,2,4]\n",
    "print(numbers[indices])\n",
    "\n",
    "where_result = np.where(numbers >5 )\n",
    "print(where_result)\n",
    "print(\"NP where \", numbers[where_result])"
   ]
  },
  {
   "cell_type": "code",
   "execution_count": 16,
   "metadata": {},
   "outputs": [
    {
     "name": "stdout",
     "output_type": "stream",
     "text": [
      "['false' 'false' 'false' 'false' 'false' 'true' 'true' 'true' 'true'\n",
      " 'true']\n"
     ]
    }
   ],
   "source": [
    "condition_array = np.where(numbers >5 , \"true\", \"false\")\n",
    "print(condition_array)"
   ]
  },
  {
   "cell_type": "markdown",
   "metadata": {},
   "source": [
    "### Adding and removing data\n"
   ]
  },
  {
   "cell_type": "code",
   "execution_count": 17,
   "metadata": {},
   "outputs": [
    {
     "name": "stdout",
     "output_type": "stream",
     "text": [
      "[1 2 3 4 5 6]\n"
     ]
    }
   ],
   "source": [
    "arr1 = np.array([1,2,3])\n",
    "arr2 = np.array([4,5,6])\n",
    "\n",
    "combined = np.concatenate((arr1, arr2))\n",
    "print(combined)"
   ]
  },
  {
   "cell_type": "markdown",
   "metadata": {},
   "source": [
    "## Array compatibility"
   ]
  },
  {
   "cell_type": "code",
   "execution_count": 18,
   "metadata": {},
   "outputs": [
    {
     "name": "stdout",
     "output_type": "stream",
     "text": [
      "Compatibility shapes True\n"
     ]
    }
   ],
   "source": [
    "a= np.array([1,2,3])\n",
    "b= np.array([4,5,6])\n",
    "c =np.array([7,8,9])\n",
    "\n",
    "print(\"Compatibility shapes\", a.shape == b.shape)"
   ]
  }
 ],
 "metadata": {
  "kernelspec": {
   "display_name": "Python 3",
   "language": "python",
   "name": "python3"
  },
  "language_info": {
   "codemirror_mode": {
    "name": "ipython",
    "version": 3
   },
   "file_extension": ".py",
   "mimetype": "text/x-python",
   "name": "python",
   "nbconvert_exporter": "python",
   "pygments_lexer": "ipython3",
   "version": "3.11.4"
  }
 },
 "nbformat": 4,
 "nbformat_minor": 2
}
